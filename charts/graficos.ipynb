{
 "cells": [
  {
   "cell_type": "code",
   "execution_count": 177,
   "metadata": {},
   "outputs": [
    {
     "data": {
      "text/plain": [
       "['\"Hastag numero 1 repetido 72189\"\\t\"#ElClasico\"\\n',\n",
       " '\"Hastag numero 2 repetido 26752\"\\t\"#ElCl\\\\u00e1sico\"\\n',\n",
       " '\"Hastag numero 3 repetido 8429\"\\t\"#LaLiga\"\\n',\n",
       " '\"Hastag numero 4 repetido 8173\"\\t\"#For\\\\u00e7aBar\\\\u00e7a\"\\n',\n",
       " '\"Hastag numero 5 repetido 7366\"\\t\"#Messi\"\\n',\n",
       " '\"Hastag numero 6 repetido 7252\"\\t\"#SSFootball\"\\n',\n",
       " '\"Hastag numero 7 repetido 6736\"\\t\"#ElCl\\\\u00e1sico!\"\\n',\n",
       " '\"Hastag numero 8 repetido 5734\"\\t\"#HalaMadrid\"\\n',\n",
       " '\"Hastag numero 9 repetido 4482\"\\t\"#ElClasico!\"\\n',\n",
       " '\"Hastag numero 10 repetido 4439\"\\t\"#ElCl\\\\u00e1sico.\"\\n']"
      ]
     },
     "execution_count": 177,
     "metadata": {},
     "output_type": "execute_result"
    }
   ],
   "source": [
    "import codecs\n",
    "#we load the file results of hastags.\n",
    "with codecs.open('part-00003','r',encoding='utf-8') as f:\n",
    "    filehastag=f.readlines()\n",
    "filehastag"
   ]
  },
  {
   "cell_type": "code",
   "execution_count": 178,
   "metadata": {},
   "outputs": [],
   "source": [
    "#we create two arrays with the hastags and number of tweets.\n",
    "hastags = [i.split(\"\\t\")[1].split(\"\\n\")[0].replace('\"','') for i in filehastag]\n",
    "number_of_tweets = [int(i.split(\"\\t\")[0].split(\"repetido \")[1].replace('\"','')) for i in filehastag]\n"
   ]
  },
  {
   "cell_type": "code",
   "execution_count": 179,
   "metadata": {},
   "outputs": [],
   "source": [
    "#we load the libraries.\n",
    "from bokeh.io import show, output_file\n",
    "from bokeh.models import ColumnDataSource\n",
    "from bokeh.palettes import Spectral10\n",
    "from bokeh.plotting import figure"
   ]
  },
  {
   "cell_type": "code",
   "execution_count": 180,
   "metadata": {},
   "outputs": [
    {
     "name": "stderr",
     "output_type": "stream",
     "text": [
      "E-1001 (BAD_COLUMN_NAME): Glyph refers to nonexistent column name: Número de tweets [renderer: GlyphRenderer(id='c28dcdf6-51a1-4bd6-ab36-0ca75fe843fd', ...)]\n",
      "E-1001 (BAD_COLUMN_NAME): Glyph refers to nonexistent column name: x, y [renderer: GlyphRenderer(id='94f46a69-0ba4-4681-aefd-99b3fc49a277', ...)]\n",
      "W-1005 (SNAPPED_TOOLBAR_ANNOTATIONS): Snapped toolbars and annotations on the same side MAY overlap visually: Figure(id='8225899f-1f4c-44d2-a5b1-8c88dff2c655', ...)\n",
      "W-1005 (SNAPPED_TOOLBAR_ANNOTATIONS): Snapped toolbars and annotations on the same side MAY overlap visually: Figure(id='e1405216-8a37-4caa-b99d-69fbe872a0b8', ...)\n",
      "W-1005 (SNAPPED_TOOLBAR_ANNOTATIONS): Snapped toolbars and annotations on the same side MAY overlap visually: Figure(id='c0f6d8f3-6d61-4425-9eae-e6b4e94e9855', ...)\n",
      "W-1005 (SNAPPED_TOOLBAR_ANNOTATIONS): Snapped toolbars and annotations on the same side MAY overlap visually: Figure(id='37c1770b-0e1c-48db-90ca-1844a8c37ddc', ...)\n",
      "W-1005 (SNAPPED_TOOLBAR_ANNOTATIONS): Snapped toolbars and annotations on the same side MAY overlap visually: Figure(id='5b364aea-21b7-4bf2-8509-187e54d70fa3', ...)\n",
      "W-1005 (SNAPPED_TOOLBAR_ANNOTATIONS): Snapped toolbars and annotations on the same side MAY overlap visually: Figure(id='65067a01-87d4-4049-92a7-8aeabaa5e31e', ...)\n",
      "W-1005 (SNAPPED_TOOLBAR_ANNOTATIONS): Snapped toolbars and annotations on the same side MAY overlap visually: Figure(id='32172ab6-b463-4a7c-9e01-ea3c5bf53493', ...)\n",
      "W-1005 (SNAPPED_TOOLBAR_ANNOTATIONS): Snapped toolbars and annotations on the same side MAY overlap visually: Figure(id='d53e4a7b-f473-47af-9ebe-2c20f083df8d', ...)\n",
      "W-1005 (SNAPPED_TOOLBAR_ANNOTATIONS): Snapped toolbars and annotations on the same side MAY overlap visually: Figure(id='743f83fc-f538-44d8-9f52-c116d091ac12', ...)\n",
      "W-1005 (SNAPPED_TOOLBAR_ANNOTATIONS): Snapped toolbars and annotations on the same side MAY overlap visually: Figure(id='c55d35da-4494-4162-8e96-b1c4c16c63ca', ...)\n",
      "W-1005 (SNAPPED_TOOLBAR_ANNOTATIONS): Snapped toolbars and annotations on the same side MAY overlap visually: Figure(id='0d84f719-bf24-476e-bd68-2a4affe8ea5b', ...)\n",
      "W-1005 (SNAPPED_TOOLBAR_ANNOTATIONS): Snapped toolbars and annotations on the same side MAY overlap visually: Figure(id='4b58231b-fdb9-4116-a234-957121ba2f5d', ...)\n",
      "W-1005 (SNAPPED_TOOLBAR_ANNOTATIONS): Snapped toolbars and annotations on the same side MAY overlap visually: Figure(id='5f0ce9f3-e2dd-410d-9964-d94380d77f04', ...)\n",
      "W-1005 (SNAPPED_TOOLBAR_ANNOTATIONS): Snapped toolbars and annotations on the same side MAY overlap visually: Figure(id='5d663a7d-d033-4142-bf70-1360ba2a2225', ...)\n",
      "W-1005 (SNAPPED_TOOLBAR_ANNOTATIONS): Snapped toolbars and annotations on the same side MAY overlap visually: Figure(id='c853dcb6-747c-4597-82d1-50153b97f03d', ...)\n",
      "W-1005 (SNAPPED_TOOLBAR_ANNOTATIONS): Snapped toolbars and annotations on the same side MAY overlap visually: Figure(id='70f92b9a-2d14-432a-b9d6-b389fa7199f2', ...)\n",
      "W-1005 (SNAPPED_TOOLBAR_ANNOTATIONS): Snapped toolbars and annotations on the same side MAY overlap visually: Figure(id='b97e5467-9869-445a-95fa-34929ce0fa2a', ...)\n",
      "W-1005 (SNAPPED_TOOLBAR_ANNOTATIONS): Snapped toolbars and annotations on the same side MAY overlap visually: Figure(id='0999fb5a-cfbc-4553-9531-b39a86c36a7d', ...)\n",
      "W-1005 (SNAPPED_TOOLBAR_ANNOTATIONS): Snapped toolbars and annotations on the same side MAY overlap visually: Figure(id='c9d661ab-f69c-43ce-a5cf-fbe862c6742f', ...)\n",
      "W-1005 (SNAPPED_TOOLBAR_ANNOTATIONS): Snapped toolbars and annotations on the same side MAY overlap visually: Figure(id='4c8ed57c-30ff-4605-83c7-eca756f05c00', ...)\n",
      "W-1005 (SNAPPED_TOOLBAR_ANNOTATIONS): Snapped toolbars and annotations on the same side MAY overlap visually: Figure(id='b5e750d9-1988-4f24-9a5b-d6c9293c913c', ...)\n",
      "W-1005 (SNAPPED_TOOLBAR_ANNOTATIONS): Snapped toolbars and annotations on the same side MAY overlap visually: Figure(id='1e59a7cf-735a-40bd-a698-3960c446aa9c', ...)\n",
      "W-1005 (SNAPPED_TOOLBAR_ANNOTATIONS): Snapped toolbars and annotations on the same side MAY overlap visually: Figure(id='4b9f6e8d-d38b-4e25-92e6-c3cf26332559', ...)\n",
      "W-1005 (SNAPPED_TOOLBAR_ANNOTATIONS): Snapped toolbars and annotations on the same side MAY overlap visually: Figure(id='ca6babf0-10be-41a6-92a0-57bcd9826393', ...)\n"
     ]
    }
   ],
   "source": [
    "source = ColumnDataSource(data=dict(hastags=hastags, number_of_tweets=number_of_tweets, color=Spectral10))\n",
    "\n",
    "p = figure(x_range=hastags, y_range=(3000,75000), plot_height=550,plot_width=1050, title=\"Top 10 Hastags\",\n",
    "           toolbar_location=None, tools=\"\")\n",
    "\n",
    "p.vbar(x='hastags', top='number_of_tweets', width=0.9, color='color', legend=\"hastags\", source=source)\n",
    "\n",
    "p.xgrid.grid_line_color = None\n",
    "p.legend.orientation = \"vertical\"\n",
    "p.legend.location = \"center\"\n",
    "\n",
    "show(p)"
   ]
  },
  {
   "cell_type": "code",
   "execution_count": 181,
   "metadata": {},
   "outputs": [
    {
     "data": {
      "text/plain": [
       "['375\\t\"CA\"\\n',\n",
       " '173\\t\"FL\"\\n',\n",
       " '144\\t\"TX\"\\n',\n",
       " '144\\t\"VA\"\\n',\n",
       " '101\\t\"WA\"\\n',\n",
       " '65\\t\"IN\"\\n',\n",
       " '58\\t\"AL\"\\n',\n",
       " '50\\t\"MD\"\\n',\n",
       " '49\\t\"GA\"\\n',\n",
       " '48\\t\"KS\"\\n',\n",
       " '48\\t\"PA\"\\n',\n",
       " '47\\t\"MA\"\\n',\n",
       " '44\\t\"IL\"\\n',\n",
       " '42\\t\"MI\"\\n',\n",
       " '39\\t\"TN\"\\n',\n",
       " '31\\t\"OH\"\\n',\n",
       " '31\\t\"UT\"\\n',\n",
       " '28\\t\"IA\"\\n',\n",
       " '27\\t\"AZ\"\\n',\n",
       " '22\\t\"DC\"\\n',\n",
       " '20\\t\"MN\"\\n',\n",
       " '20\\t\"OR\"\\n',\n",
       " '18\\t\"AK\"\\n',\n",
       " '17\\t\"USA\"\\n',\n",
       " '16\\t\"CT\"\\n',\n",
       " '16\\t\"NJ\"\\n',\n",
       " '15\\t\"AR\"\\n',\n",
       " '15\\t\"NY\"\\n',\n",
       " '13\\t\"MS\"\\n',\n",
       " '13\\t\"OK\"\\n',\n",
       " '12\\t\"MO\"\\n',\n",
       " '10\\t\"DE\"\\n',\n",
       " '10\\t\"NE\"\\n',\n",
       " '9\\t\"KY\"\\n',\n",
       " '9\\t\"NV\"\\n',\n",
       " '8\\t\"ID\"\\n',\n",
       " '8\\t\"WI\"\\n',\n",
       " '5\\t\"CO\"\\n',\n",
       " '5\\t\"NC\"\\n',\n",
       " '2\\t\"ME\"\\n',\n",
       " '1\\t\"Puerto Rico\"\\n',\n",
       " '-1\\t\"LA\"\\n',\n",
       " '-2\\t\"HI\"\\n',\n",
       " '-2\\t\"NM\"\\n',\n",
       " '-4\\t\"VT\"\\n',\n",
       " '\"El estado mas positivo ha sido \"\\t\"CA\"\\n']"
      ]
     },
     "execution_count": 181,
     "metadata": {},
     "output_type": "execute_result"
    }
   ],
   "source": [
    "#we load the file results of the sentiment analysis per state.\n",
    "with open('part-00004','r') as f:\n",
    "    filestates=f.readlines()\n",
    "filestates"
   ]
  },
  {
   "cell_type": "code",
   "execution_count": 182,
   "metadata": {},
   "outputs": [],
   "source": [
    "#we create a hash with state \n",
    "states=[i.split('\\t')[1].split('\\n')[0].replace('\"','') for i in filestates[:-1]]\n",
    "rating=[int(i.split('\\t')[0].split('\\n')[0]) for i in filestates[:-1]]\n",
    "sentiment_hash={state:rating for state,rating in zip(states,rating)}"
   ]
  },
  {
   "cell_type": "code",
   "execution_count": 184,
   "metadata": {},
   "outputs": [
    {
     "name": "stderr",
     "output_type": "stream",
     "text": [
      "E-1001 (BAD_COLUMN_NAME): Glyph refers to nonexistent column name: Número de tweets [renderer: GlyphRenderer(id='c28dcdf6-51a1-4bd6-ab36-0ca75fe843fd', ...)]\n",
      "E-1001 (BAD_COLUMN_NAME): Glyph refers to nonexistent column name: x, y [renderer: GlyphRenderer(id='94f46a69-0ba4-4681-aefd-99b3fc49a277', ...)]\n",
      "W-1005 (SNAPPED_TOOLBAR_ANNOTATIONS): Snapped toolbars and annotations on the same side MAY overlap visually: Figure(id='8225899f-1f4c-44d2-a5b1-8c88dff2c655', ...)\n",
      "W-1005 (SNAPPED_TOOLBAR_ANNOTATIONS): Snapped toolbars and annotations on the same side MAY overlap visually: Figure(id='e1405216-8a37-4caa-b99d-69fbe872a0b8', ...)\n",
      "W-1005 (SNAPPED_TOOLBAR_ANNOTATIONS): Snapped toolbars and annotations on the same side MAY overlap visually: Figure(id='c0f6d8f3-6d61-4425-9eae-e6b4e94e9855', ...)\n",
      "W-1005 (SNAPPED_TOOLBAR_ANNOTATIONS): Snapped toolbars and annotations on the same side MAY overlap visually: Figure(id='37c1770b-0e1c-48db-90ca-1844a8c37ddc', ...)\n",
      "W-1005 (SNAPPED_TOOLBAR_ANNOTATIONS): Snapped toolbars and annotations on the same side MAY overlap visually: Figure(id='5b364aea-21b7-4bf2-8509-187e54d70fa3', ...)\n",
      "W-1005 (SNAPPED_TOOLBAR_ANNOTATIONS): Snapped toolbars and annotations on the same side MAY overlap visually: Figure(id='65067a01-87d4-4049-92a7-8aeabaa5e31e', ...)\n",
      "W-1005 (SNAPPED_TOOLBAR_ANNOTATIONS): Snapped toolbars and annotations on the same side MAY overlap visually: Figure(id='32172ab6-b463-4a7c-9e01-ea3c5bf53493', ...)\n",
      "W-1005 (SNAPPED_TOOLBAR_ANNOTATIONS): Snapped toolbars and annotations on the same side MAY overlap visually: Figure(id='d53e4a7b-f473-47af-9ebe-2c20f083df8d', ...)\n",
      "W-1005 (SNAPPED_TOOLBAR_ANNOTATIONS): Snapped toolbars and annotations on the same side MAY overlap visually: Figure(id='743f83fc-f538-44d8-9f52-c116d091ac12', ...)\n",
      "W-1005 (SNAPPED_TOOLBAR_ANNOTATIONS): Snapped toolbars and annotations on the same side MAY overlap visually: Figure(id='c55d35da-4494-4162-8e96-b1c4c16c63ca', ...)\n",
      "W-1005 (SNAPPED_TOOLBAR_ANNOTATIONS): Snapped toolbars and annotations on the same side MAY overlap visually: Figure(id='0d84f719-bf24-476e-bd68-2a4affe8ea5b', ...)\n",
      "W-1005 (SNAPPED_TOOLBAR_ANNOTATIONS): Snapped toolbars and annotations on the same side MAY overlap visually: Figure(id='4b58231b-fdb9-4116-a234-957121ba2f5d', ...)\n",
      "W-1005 (SNAPPED_TOOLBAR_ANNOTATIONS): Snapped toolbars and annotations on the same side MAY overlap visually: Figure(id='5f0ce9f3-e2dd-410d-9964-d94380d77f04', ...)\n",
      "W-1005 (SNAPPED_TOOLBAR_ANNOTATIONS): Snapped toolbars and annotations on the same side MAY overlap visually: Figure(id='5d663a7d-d033-4142-bf70-1360ba2a2225', ...)\n",
      "W-1005 (SNAPPED_TOOLBAR_ANNOTATIONS): Snapped toolbars and annotations on the same side MAY overlap visually: Figure(id='c853dcb6-747c-4597-82d1-50153b97f03d', ...)\n",
      "W-1005 (SNAPPED_TOOLBAR_ANNOTATIONS): Snapped toolbars and annotations on the same side MAY overlap visually: Figure(id='70f92b9a-2d14-432a-b9d6-b389fa7199f2', ...)\n",
      "W-1005 (SNAPPED_TOOLBAR_ANNOTATIONS): Snapped toolbars and annotations on the same side MAY overlap visually: Figure(id='b97e5467-9869-445a-95fa-34929ce0fa2a', ...)\n",
      "W-1005 (SNAPPED_TOOLBAR_ANNOTATIONS): Snapped toolbars and annotations on the same side MAY overlap visually: Figure(id='0999fb5a-cfbc-4553-9531-b39a86c36a7d', ...)\n",
      "W-1005 (SNAPPED_TOOLBAR_ANNOTATIONS): Snapped toolbars and annotations on the same side MAY overlap visually: Figure(id='c9d661ab-f69c-43ce-a5cf-fbe862c6742f', ...)\n",
      "W-1005 (SNAPPED_TOOLBAR_ANNOTATIONS): Snapped toolbars and annotations on the same side MAY overlap visually: Figure(id='4c8ed57c-30ff-4605-83c7-eca756f05c00', ...)\n",
      "W-1005 (SNAPPED_TOOLBAR_ANNOTATIONS): Snapped toolbars and annotations on the same side MAY overlap visually: Figure(id='b5e750d9-1988-4f24-9a5b-d6c9293c913c', ...)\n",
      "W-1005 (SNAPPED_TOOLBAR_ANNOTATIONS): Snapped toolbars and annotations on the same side MAY overlap visually: Figure(id='1e59a7cf-735a-40bd-a698-3960c446aa9c', ...)\n",
      "W-1005 (SNAPPED_TOOLBAR_ANNOTATIONS): Snapped toolbars and annotations on the same side MAY overlap visually: Figure(id='4b9f6e8d-d38b-4e25-92e6-c3cf26332559', ...)\n",
      "W-1005 (SNAPPED_TOOLBAR_ANNOTATIONS): Snapped toolbars and annotations on the same side MAY overlap visually: Figure(id='ca6babf0-10be-41a6-92a0-57bcd9826393', ...)\n",
      "W-1005 (SNAPPED_TOOLBAR_ANNOTATIONS): Snapped toolbars and annotations on the same side MAY overlap visually: Figure(id='8fc5283d-c112-4856-a68c-baeb32d6bad0', ...)\n",
      "W-1005 (SNAPPED_TOOLBAR_ANNOTATIONS): Snapped toolbars and annotations on the same side MAY overlap visually: Figure(id='0fa49743-f05a-4870-a12f-186ad27e1cd2', ...)\n"
     ]
    }
   ],
   "source": [
    "from bokeh.plotting import figure, show, output_file\n",
    "from bokeh.sampledata.us_counties import data as counties\n",
    "from bokeh.sampledata.us_states import data as states\n",
    "from bokeh.sampledata.unemployment import data as unemployment\n",
    "from bokeh.models import (\n",
    "    ColumnDataSource,\n",
    "    HoverTool,\n",
    "    LinearColorMapper,\n",
    "    BasicTicker,\n",
    "    PrintfTickFormatter,\n",
    "    ColorBar,\n",
    ")\n",
    "\n",
    "state_xs = [states[code][\"lons\"] for code in states]\n",
    "state_ys = [states[code][\"lats\"] for code in states]\n",
    "\n",
    "colors =['#3182bd','#6baed6','#9ecae1','#c6dbef','#e6550d','#fd8d3c','#fdae6b','#fdd0a2','#31a354','#74c476','#a1d99b','#c7e9c0','#756bb1','#9e9ac8','#bcbddc','#dadaeb','#636363','#969696','#bdbdbd','#d9d9d9']\n",
    "\n",
    "state_colors = []\n",
    "for code in states:\n",
    "    try:\n",
    "        rate = sentiment_hash[code]\n",
    "        idx = int(rate/20)\n",
    "        try:\n",
    "            state_colors.append(colors[idx])\n",
    "        except:\n",
    "            state_colors.append(colors[-1])\n",
    "    except KeyError:\n",
    "        state_colors.append(\"withe\")\n",
    "mapper = LinearColorMapper(palette=colors, low=-4, high=375)        \n",
    "color_bar = ColorBar(color_mapper=mapper, major_label_text_font_size=\"5pt\",\n",
    "                     ticker=BasicTicker(desired_num_ticks=len(colors)),\n",
    "                     formatter=PrintfTickFormatter(format=\"%d%%\"),\n",
    "                     label_standoff=6, border_line_color=None, location=(0, 0))\n",
    "\n",
    "p = figure(title=\"'ElClásico' Sentiment Analysis per State\", toolbar_location=\"left\",\n",
    "           plot_width=1100, plot_height=700)\n",
    "\n",
    "p.add_layout(color_bar, 'right')\n",
    "p.patches(state_xs, state_ys,fill_color=state_colors,fill_alpha=0.7,\n",
    "          line_color=\"#884444\", line_width=2, line_alpha=0.3)\n",
    "\n",
    "output_file(\"elclasicoheatmap.html\", title=\"ElClásico Sentiment Analysis per State\")\n",
    "\n",
    "show(p)"
   ]
  },
  {
   "cell_type": "code",
   "execution_count": 103,
   "metadata": {},
   "outputs": [],
   "source": []
  },
  {
   "cell_type": "code",
   "execution_count": null,
   "metadata": {},
   "outputs": [],
   "source": []
  }
 ],
 "metadata": {
  "anaconda-cloud": {},
  "kernelspec": {
   "display_name": "Python [default]",
   "language": "python",
   "name": "python3"
  },
  "language_info": {
   "codemirror_mode": {
    "name": "ipython",
    "version": 3
   },
   "file_extension": ".py",
   "mimetype": "text/x-python",
   "name": "python",
   "nbconvert_exporter": "python",
   "pygments_lexer": "ipython3",
   "version": "3.5.2"
  }
 },
 "nbformat": 4,
 "nbformat_minor": 2
}
